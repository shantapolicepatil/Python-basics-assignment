{
 "cells": [
  {
   "cell_type": "markdown",
   "id": "6cf109f3-0efe-4e4d-9c3e-e7a7581ee016",
   "metadata": {},
   "source": [
    "# Question 1"
   ]
  },
  {
   "cell_type": "markdown",
   "id": "e577fb4e-fbd9-4f3c-ae50-5c79def88724",
   "metadata": {},
   "source": [
    "## explain the key features of Python that make it a popular choice for programming."
   ]
  },
  {
   "cell_type": "markdown",
   "id": "08dded1d-39a5-4d78-ae16-1cd277889cfe",
   "metadata": {},
   "source": [
    "1. Easy to Learn<br>2. High-Level Language<br>3. Interpreted Language<br>4. Object-Oriented<br>5. Large Standard Library<br>6. Dynamic Typing<br>7. Cross-Platform<br>8. Rapid Development<br>9. Extensive Community<br>10. Open Source"
   ]
  },
  {
   "cell_type": "markdown",
   "id": "714e1277-5d1c-4289-9f65-a3c8a3cb91a3",
   "metadata": {},
   "source": [
    "# Question 2"
   ]
  },
  {
   "cell_type": "markdown",
   "id": "9c9e7b98-defe-429e-bc23-bb3181022bda",
   "metadata": {},
   "source": [
    "##  Describe the role of predefined keywords and provide examples of how they are used in a program."
   ]
  },
  {
   "cell_type": "markdown",
   "id": "3adbac0a-b039-4109-ad36-4ea0d4506aad",
   "metadata": {},
   "source": [
    "#### Keywords are special words in Python that have a specific meaning and are used to perform specific tasks. They are like instructions that tell Python what to do. keywords are reserved words that cannot be used as variable name , function name or identifiers"
   ]
  },
  {
   "cell_type": "code",
   "execution_count": null,
   "id": "218fd3db-1e82-423d-bb63-cb8d77804222",
   "metadata": {},
   "outputs": [],
   "source": [
    "Example : if,  else,for, while, break, continue, and , or many others..."
   ]
  },
  {
   "cell_type": "code",
   "execution_count": 4,
   "id": "0d14fff5-0b64-4cce-a747-70d9858dda38",
   "metadata": {},
   "outputs": [
    {
     "name": "stdout",
     "output_type": "stream",
     "text": [
      "2 multiple by 2\n",
      "4 multiple by 2\n",
      "6 multiple by 2\n",
      "8 multiple by 2\n",
      "10 multiple by 2\n",
      "12 multiple by 2\n",
      "14 multiple by 2\n",
      "16 multiple by 2\n",
      "18 multiple by 2\n"
     ]
    }
   ],
   "source": [
    "#Question 2\n",
    "# Example 1 \n",
    "for i in range (1,20) : # for is a keyword\n",
    "    if i % 2 == 0 : # if is a keyword\n",
    "        print(f\"{i} multiple by 2\")"
   ]
  },
  {
   "cell_type": "code",
   "execution_count": 5,
   "id": "fc5bd5d6-0b14-4117-9d76-380959a936c1",
   "metadata": {},
   "outputs": [
    {
     "name": "stdout",
     "output_type": "stream",
     "text": [
      "a is less than 60\n"
     ]
    }
   ],
   "source": [
    "# Example 2\n",
    "a = 50\n",
    "if a>60 : # if ia a keyword\n",
    "    print('a is greater than 60')\n",
    "else : # else is a keyword\n",
    "    print('a is less than 60')"
   ]
  },
  {
   "cell_type": "code",
   "execution_count": 6,
   "id": "94da1c11-3ebb-4cbc-bd5c-2d1368518f76",
   "metadata": {},
   "outputs": [
    {
     "name": "stdout",
     "output_type": "stream",
     "text": [
      "0\n",
      "1\n",
      "2\n",
      "4\n"
     ]
    }
   ],
   "source": [
    "# Example 3\n",
    "x = 0\n",
    "while x < 5: # while is a keyword\n",
    "    if x == 3:\n",
    "        x += 1\n",
    "        continue # continue is a keyword\n",
    "    print(x)\n",
    "    x += 1"
   ]
  },
  {
   "cell_type": "code",
   "execution_count": 7,
   "id": "14d47a58-1926-4ab8-accd-951c2481c08d",
   "metadata": {},
   "outputs": [
    {
     "name": "stdout",
     "output_type": "stream",
     "text": [
      "Login successful\n"
     ]
    }
   ],
   "source": [
    "# Example 4\n",
    "username = \"admin\"\n",
    "password = \"password\"\n",
    "\n",
    "if username == \"admin\" and password == \"password\":\n",
    "    print(\"Login successful\")\n",
    "else:\n",
    "    print(\"Login failed\")"
   ]
  },
  {
   "cell_type": "code",
   "execution_count": 8,
   "id": "d2c1f445-be4b-43cb-8212-216f942f1a8e",
   "metadata": {},
   "outputs": [
    {
     "name": "stdout",
     "output_type": "stream",
     "text": [
      "Strong password\n"
     ]
    }
   ],
   "source": [
    "# example 5\n",
    "password = \"MyPassword123\"\n",
    "if len(password) >= 12 and any(char.isdigit() for char in password) and any(char.isupper() for char in password) and any(char.islower() for char in password):\n",
    "    print(\"Strong password\")\n",
    "else:\n",
    "    print(\"Weak password\")"
   ]
  },
  {
   "cell_type": "markdown",
   "id": "21dc885b-e79c-40cf-b823-c332c2fa97ea",
   "metadata": {},
   "source": [
    "# Question 3"
   ]
  },
  {
   "cell_type": "markdown",
   "id": "b557ffba-0e54-4943-8d11-e3c5e92e5bf8",
   "metadata": {},
   "source": [
    "## Compare and contrast mutable and immutable objects in Python with examples"
   ]
  },
  {
   "cell_type": "markdown",
   "id": "4b0269c2-4c15-4061-853e-d124d1daf63c",
   "metadata": {},
   "source": [
    "Mutable Objects - Objects whose value can be changed after creation is called mutable objects .\n",
    "list , dict and sets are mutable objects .\n",
    "\n",
    "Immutable Objects - Objects whose value can not be changed after creation is called immutable objects.\n",
    "tuple , strings , int , float are immutable objects"
   ]
  },
  {
   "cell_type": "code",
   "execution_count": 9,
   "id": "2b474a58-d884-43db-810d-eb7cecdd0167",
   "metadata": {},
   "outputs": [
    {
     "name": "stdout",
     "output_type": "stream",
     "text": [
      "[1, 2, 3, 4]\n"
     ]
    }
   ],
   "source": [
    "# Question 3\n",
    "# Example 1: Lists\n",
    "\n",
    "my_list = [1, 2, 3]\n",
    "my_list.append(4)  # modifies the list\n",
    "print(my_list)"
   ]
  },
  {
   "cell_type": "markdown",
   "id": "31485429-f5d5-4047-8bd7-b7078e96fa66",
   "metadata": {},
   "source": [
    "the mutable data type is modified in place, meaning that the original data is changed rather than creating a new copy."
   ]
  },
  {
   "cell_type": "code",
   "execution_count": 10,
   "id": "b2735b89-1c94-44c1-b866-3a590e6de6a1",
   "metadata": {},
   "outputs": [
    {
     "name": "stdout",
     "output_type": "stream",
     "text": [
      "(1, 2, 3)\n"
     ]
    }
   ],
   "source": [
    "# Question 3\n",
    "#Example 2: Tuples\n",
    "\n",
    "x = (1, 2, 3)\n",
    "y = x\n",
    "x = (4, 5, 6)  # does not change the value of y\n",
    "print(y)  # outputs: (1, 2, 3)"
   ]
  },
  {
   "cell_type": "markdown",
   "id": "e2abbd04-59ce-4fa5-8cb6-5dbd16c10d4a",
   "metadata": {},
   "source": [
    "In each of these examples, the immutable data type is not modified in place. Instead, a new object is created when the assignment is made, leaving the original object unchanged."
   ]
  },
  {
   "cell_type": "markdown",
   "id": "e325637c-48b5-4b57-8198-d6f94c915ce0",
   "metadata": {},
   "source": [
    "# Question 4"
   ]
  },
  {
   "cell_type": "markdown",
   "id": "5b56116f-fe49-4ab0-b23b-a0efa595e41c",
   "metadata": {},
   "source": [
    "##  Discuss the differnt types of operators in Python and provide examples of how they are used"
   ]
  },
  {
   "cell_type": "markdown",
   "id": "8e1202b5-1f08-48cc-85d6-39d9d424af13",
   "metadata": {},
   "source": [
    "<br>1. Arithmetic Operator - + , - , * , **<br>\n",
    "2. Logical Operator - and , or , not<br>\n",
    "3. Conditional Operator - if , else , elif<br>\n",
    "4. Comparision Operator - == , != , > , <<br>"
   ]
  },
  {
   "cell_type": "code",
   "execution_count": 14,
   "id": "34221fda-18cf-4c7e-b5e7-be26a92143d4",
   "metadata": {},
   "outputs": [
    {
     "data": {
      "text/plain": [
       "6"
      ]
     },
     "execution_count": 14,
     "metadata": {},
     "output_type": "execute_result"
    }
   ],
   "source": [
    "# Arithmetic Operator\n",
    "a=2\n",
    "b=4\n",
    "\n",
    "a+b # adding 2 variables a and b using '+' operator"
   ]
  },
  {
   "cell_type": "code",
   "execution_count": 15,
   "id": "a24265a5-1978-4977-bda3-e846b14aaccb",
   "metadata": {},
   "outputs": [
    {
     "data": {
      "text/plain": [
       "16"
      ]
     },
     "execution_count": 15,
     "metadata": {},
     "output_type": "execute_result"
    }
   ],
   "source": [
    "a**b # a raised to the power b"
   ]
  },
  {
   "cell_type": "code",
   "execution_count": 16,
   "id": "57367bd0-5cba-4211-be86-d4bdcd36445a",
   "metadata": {},
   "outputs": [
    {
     "data": {
      "text/plain": [
       "False"
      ]
     },
     "execution_count": 16,
     "metadata": {},
     "output_type": "execute_result"
    }
   ],
   "source": [
    "# Logical Operator\n",
    "a= True\n",
    "b= False\n",
    "\n",
    "a and b # using logical operator 'and' in bool data type\n"
   ]
  },
  {
   "cell_type": "code",
   "execution_count": 17,
   "id": "dbc9d069-1f05-4c30-8b20-f31dfe1aaf20",
   "metadata": {},
   "outputs": [
    {
     "data": {
      "text/plain": [
       "True"
      ]
     },
     "execution_count": 17,
     "metadata": {},
     "output_type": "execute_result"
    }
   ],
   "source": [
    "a or b"
   ]
  },
  {
   "cell_type": "code",
   "execution_count": 30,
   "id": "2fd34a44-1272-42ab-a727-e5b13fa5259b",
   "metadata": {},
   "outputs": [
    {
     "name": "stdout",
     "output_type": "stream",
     "text": [
      "x is less than or equal to 10\n"
     ]
    }
   ],
   "source": [
    "# Conditional Operatorx = 5\n",
    "result = \"x is greater than 10\" if x > 10 else \"x is less than or equal to 10\"\n",
    "print(result)"
   ]
  },
  {
   "cell_type": "code",
   "execution_count": 18,
   "id": "02b3a9b2-5bf4-4d81-bbc3-420622bc8614",
   "metadata": {},
   "outputs": [
    {
     "name": "stdout",
     "output_type": "stream",
     "text": [
      "Inorrect\n"
     ]
    }
   ],
   "source": [
    "# Comparison Operator\n",
    "x = \"Data\"\n",
    "y = \"Analytics\"\n",
    "if x==y: # '==' is a comparison operator [Comparing the str x and y]\n",
    "  print(\"Correct\")\n",
    "else:\n",
    "  print(\"Inorrect\")"
   ]
  },
  {
   "cell_type": "markdown",
   "id": "954055cc-8482-4508-bdf6-0b65f75c3b52",
   "metadata": {},
   "source": [
    "### Question 5"
   ]
  },
  {
   "cell_type": "markdown",
   "id": "57c688c8-adc5-4deb-afb5-f560dfb74075",
   "metadata": {},
   "source": [
    "### Explain the concept of type casting in Python with examples"
   ]
  },
  {
   "cell_type": "markdown",
   "id": "9dd13ebb-21ed-40cb-ac25-5b62b9c3f50a",
   "metadata": {},
   "source": [
    "Type casting is a method to convert a specific data type stored in a variable to another data type in otder to perform the required operations by the user .\n",
    "\n",
    "Types in type casting\n",
    "\n",
    "Implicit type casting - Python automatically converts the data type<br>\n",
    "Explicit type casting - User involvement is requried to convert the data type"
   ]
  },
  {
   "cell_type": "code",
   "execution_count": 1,
   "id": "8f5f1721-8f67-4ec8-96af-fa3413b8bd8c",
   "metadata": {},
   "outputs": [
    {
     "data": {
      "text/plain": [
       "int"
      ]
     },
     "execution_count": 1,
     "metadata": {},
     "output_type": "execute_result"
    }
   ],
   "source": [
    "# Implicit type casting\n",
    "a=5 #python automatically converts the data type of a to int\n",
    "type(a)"
   ]
  },
  {
   "cell_type": "code",
   "execution_count": 2,
   "id": "da85f74b-7daa-4a1a-be7d-7e10082d3e25",
   "metadata": {},
   "outputs": [
    {
     "data": {
      "text/plain": [
       "str"
      ]
     },
     "execution_count": 2,
     "metadata": {},
     "output_type": "execute_result"
    }
   ],
   "source": [
    "b =\"analytics\" # converts data type to str\n",
    "type(b)"
   ]
  },
  {
   "cell_type": "code",
   "execution_count": 3,
   "id": "dafc688c-121b-450f-a28a-c87ee61d23f1",
   "metadata": {},
   "outputs": [
    {
     "data": {
      "text/plain": [
       "str"
      ]
     },
     "execution_count": 3,
     "metadata": {},
     "output_type": "execute_result"
    }
   ],
   "source": [
    "# Explicit type casting\n",
    "x = \"10\" # here 10 is stored as str\n",
    "type(x)"
   ]
  },
  {
   "cell_type": "code",
   "execution_count": 4,
   "id": "4edc4ecf-7b20-4f47-a618-cc567ba3ddc2",
   "metadata": {},
   "outputs": [],
   "source": [
    "y= int(x) # Explicit type casting >> converting data type str to int"
   ]
  },
  {
   "cell_type": "code",
   "execution_count": 5,
   "id": "8682cb45-1866-45bc-9ab4-c3f3f07d6ce2",
   "metadata": {},
   "outputs": [
    {
     "data": {
      "text/plain": [
       "10"
      ]
     },
     "execution_count": 5,
     "metadata": {},
     "output_type": "execute_result"
    }
   ],
   "source": [
    "y"
   ]
  },
  {
   "cell_type": "code",
   "execution_count": 6,
   "id": "4f0ce753-aa9e-4284-a2b7-f0d729fba800",
   "metadata": {},
   "outputs": [
    {
     "data": {
      "text/plain": [
       "int"
      ]
     },
     "execution_count": 6,
     "metadata": {},
     "output_type": "execute_result"
    }
   ],
   "source": [
    "type(y) # int(x) is stored in y and y is a int data type"
   ]
  },
  {
   "cell_type": "code",
   "execution_count": 7,
   "id": "e63ced65-4970-49c7-9963-b5a3d73b2557",
   "metadata": {},
   "outputs": [
    {
     "data": {
      "text/plain": [
       "int"
      ]
     },
     "execution_count": 7,
     "metadata": {},
     "output_type": "execute_result"
    }
   ],
   "source": [
    "c = 2 #implicit type casting\n",
    "type(c)"
   ]
  },
  {
   "cell_type": "code",
   "execution_count": 9,
   "id": "73ce6c21-47ac-4976-b135-449dc2f479bf",
   "metadata": {},
   "outputs": [],
   "source": [
    " d=float(c) #explicit type casting >> converting int to float type"
   ]
  },
  {
   "cell_type": "code",
   "execution_count": 10,
   "id": "3dd42043-cd83-46d0-83e1-2cb002be2450",
   "metadata": {},
   "outputs": [
    {
     "data": {
      "text/plain": [
       "float"
      ]
     },
     "execution_count": 10,
     "metadata": {},
     "output_type": "execute_result"
    }
   ],
   "source": [
    "type(d)"
   ]
  },
  {
   "cell_type": "code",
   "execution_count": 11,
   "id": "993ae9b3-9fac-4e09-9b60-fc435dca98cb",
   "metadata": {},
   "outputs": [
    {
     "data": {
      "text/plain": [
       "2.0"
      ]
     },
     "execution_count": 11,
     "metadata": {},
     "output_type": "execute_result"
    }
   ],
   "source": [
    "d"
   ]
  },
  {
   "cell_type": "markdown",
   "id": "6e854c9f-b46a-40af-b70a-06517192b3ab",
   "metadata": {},
   "source": [
    "# Question 6"
   ]
  },
  {
   "cell_type": "markdown",
   "id": "e0612832-f3bc-4582-be2f-e404bca4461f",
   "metadata": {},
   "source": [
    "## How do conditional statements work in Python? Illustrate with examples"
   ]
  },
  {
   "cell_type": "markdown",
   "id": "303f184c-d3a1-45ac-b705-fa60db57f4f6",
   "metadata": {},
   "source": [
    "Conditional statements in Python are used to execute different blocks of code based on specific conditions or Boolean values. The most common conditional statements are:\n"
   ]
  },
  {
   "cell_type": "code",
   "execution_count": 24,
   "id": "29b92ed1-d511-4fef-8142-87296ee4bfe7",
   "metadata": {},
   "outputs": [],
   "source": [
    "#. if statement:\n",
    "\n",
    "#if condition: code_to_execute\n",
    "\n",
    "#Example:\n",
    "\n",
    "x = 5\n",
    "if x > 10:\n",
    "    print(\"x is greater than 10\") # This code will not print anything because the condition x > 10 is False.\n"
   ]
  },
  {
   "cell_type": "code",
   "execution_count": 25,
   "id": "b7e8fbf3-37c9-4585-a4cb-f3e31c04767a",
   "metadata": {},
   "outputs": [
    {
     "name": "stdout",
     "output_type": "stream",
     "text": [
      "x is equal to 5\n"
     ]
    }
   ],
   "source": [
    "#. if-else statement:\n",
    "\n",
    "x = 5\n",
    "if x == 5:\n",
    "    print(\"x is equal to 5\")\n",
    "else:\n",
    "    print(\"x is not equal to 5\")"
   ]
  },
  {
   "cell_type": "code",
   "execution_count": 26,
   "id": "68393c14-a7f2-41c3-8fd4-b5be877fd2ec",
   "metadata": {},
   "outputs": [
    {
     "name": "stdout",
     "output_type": "stream",
     "text": [
      "x is equal to 5\n"
     ]
    }
   ],
   "source": [
    "#. if-elif-else statement:\n",
    "\n",
    "x = 5\n",
    "if x > 10:\n",
    "    print(\"x is greater than 10\")\n",
    "elif x == 5:\n",
    "    print(\"x is equal to 5\")\n",
    "else:\n",
    "    print(\"x is less than 5\")"
   ]
  },
  {
   "cell_type": "code",
   "execution_count": 27,
   "id": "fc9a795f-dd4f-4f74-8363-519b0c4be6bc",
   "metadata": {},
   "outputs": [
    {
     "name": "stdout",
     "output_type": "stream",
     "text": [
      "x is positive but odd\n"
     ]
    }
   ],
   "source": [
    "#. nested if statement:\n",
    "\n",
    "x = 5\n",
    "if x > 0:\n",
    "    if x % 2 == 0:\n",
    "        print(\"x is positive and even\")\n",
    "    else:\n",
    "        print(\"x is positive but odd\")\n",
    "else:\n",
    "    print(\"x is negative\")"
   ]
  },
  {
   "cell_type": "code",
   "execution_count": 29,
   "id": "6ffe2d19-5d0e-4cd8-8ce3-97b52a1197b6",
   "metadata": {},
   "outputs": [
    {
     "name": "stdout",
     "output_type": "stream",
     "text": [
      "letter isn't A, B and C\n"
     ]
    }
   ],
   "source": [
    "letter = \"z\"\n",
    "\n",
    "if letter == \"B\":\n",
    "    print(\"letter is B\") # if the condition is true , then this line will get printed , if it is false will move to next line to check the statement is true or false\n",
    "else:\n",
    "    if letter == \"C\": # if the condition is true , then this line will get printed , if it is false will move to next line to check the statement is true or false\n",
    "        print(\"letter is C\")\n",
    "    else:\n",
    "        if letter == \"A\": # if the condition is true , then this line will get printed , if it is false will move to next line to check the statement is true or false\n",
    "            print(\"letter is A\")\n",
    "        else:\n",
    "            print(\"letter isn't A, B and C\")"
   ]
  },
  {
   "cell_type": "markdown",
   "id": "d3ad8adf-4d6c-4396-b0d2-906b782edc00",
   "metadata": {},
   "source": [
    "# Question 7"
   ]
  },
  {
   "cell_type": "markdown",
   "id": "ec6c4e3a-1ca8-4b53-b9d1-dc029139c565",
   "metadata": {},
   "source": [
    "## Describe the different types of loops in python and theie use cases with examples."
   ]
  },
  {
   "cell_type": "markdown",
   "id": "46be2e22-5bc8-44c3-9d29-26e3132fb3d5",
   "metadata": {},
   "source": [
    "##### Types of loops-\n",
    "\n",
    "1.for loop - A for loop is a control flow statement that is used to repeatedly exectue a group of statement as long as the condition is satisfied <br>\n",
    "2.while loop - A while loop is a control flow statement that is used to repeatedly execute a group of statement as long as certain condition remains true"
   ]
  },
  {
   "cell_type": "code",
   "execution_count": 13,
   "id": "2cf133c3-f80f-46fc-a40e-eef93c81ee50",
   "metadata": {},
   "outputs": [
    {
     "name": "stdout",
     "output_type": "stream",
     "text": [
      "0\n",
      "1\n",
      "2\n",
      "3\n",
      "4\n"
     ]
    }
   ],
   "source": [
    "#while loop\n",
    "i = 0\n",
    "while i < 5:\n",
    "    print(i)\n",
    "    i += 1\n"
   ]
  },
  {
   "cell_type": "code",
   "execution_count": 16,
   "id": "932e7419-debc-4a44-a2cc-64730c40c1f8",
   "metadata": {},
   "outputs": [
    {
     "name": "stdout",
     "output_type": "stream",
     "text": [
      "Hello, world!\n",
      "Hello, world!\n",
      "Hello, world!\n"
     ]
    }
   ],
   "source": [
    "i = 0 #Printing a message multiple times:\n",
    "while i < 3:\n",
    "    print(\"Hello, world!\")\n",
    "    i += 1"
   ]
  },
  {
   "cell_type": "code",
   "execution_count": 17,
   "id": "0c23b5dd-246c-4ccc-ad74-8b92a68483a3",
   "metadata": {},
   "outputs": [
    {
     "name": "stdout",
     "output_type": "stream",
     "text": [
      "*\n",
      "**\n",
      "***\n",
      "****\n",
      "*****\n",
      "******\n",
      "*******\n"
     ]
    }
   ],
   "source": [
    "#for loop \n",
    "n = 7\n",
    "for i in range(0,7) :\n",
    "    for j in range(0, i+1) :\n",
    "        print(\"*\", end=\"\")\n",
    "    print(\"\\r\") "
   ]
  },
  {
   "cell_type": "code",
   "execution_count": 19,
   "id": "8b7c9610-41e8-46db-855b-4b889bff0bd9",
   "metadata": {},
   "outputs": [
    {
     "name": "stdout",
     "output_type": "stream",
     "text": [
      "0 1 2 3 4 5 6 7 8 9 10 11 12 13 14 15 16 17 18 19 "
     ]
    }
   ],
   "source": [
    "for i in range(0,20):\n",
    "  print(i , end= \" \")"
   ]
  },
  {
   "cell_type": "code",
   "execution_count": 31,
   "id": "f51d69b2-abd3-43ae-a506-4ead0dca071f",
   "metadata": {},
   "outputs": [
    {
     "name": "stdout",
     "output_type": "stream",
     "text": [
      "t\n",
      "h\n",
      "a\n",
      "n\n",
      "k\n",
      "y\n",
      "o\n",
      "u\n"
     ]
    }
   ],
   "source": [
    "for i in \"thankyou\":\n",
    "  print(i)"
   ]
  },
  {
   "cell_type": "code",
   "execution_count": 32,
   "id": "e40016fd-0cd0-489c-8a8d-024fd55c616d",
   "metadata": {},
   "outputs": [
    {
     "name": "stdout",
     "output_type": "stream",
     "text": [
      "t * h * a * n * k * y * o * u * "
     ]
    }
   ],
   "source": [
    "for i in \"thankyou\":\n",
    "  print(i, end = \" * \")"
   ]
  },
  {
   "cell_type": "code",
   "execution_count": null,
   "id": "bda0ce27-9cbc-47a4-ba1c-a984d0e71e36",
   "metadata": {},
   "outputs": [],
   "source": []
  }
 ],
 "metadata": {
  "kernelspec": {
   "display_name": "Python 3 (ipykernel)",
   "language": "python",
   "name": "python3"
  },
  "language_info": {
   "codemirror_mode": {
    "name": "ipython",
    "version": 3
   },
   "file_extension": ".py",
   "mimetype": "text/x-python",
   "name": "python",
   "nbconvert_exporter": "python",
   "pygments_lexer": "ipython3",
   "version": "3.10.8"
  }
 },
 "nbformat": 4,
 "nbformat_minor": 5
}
